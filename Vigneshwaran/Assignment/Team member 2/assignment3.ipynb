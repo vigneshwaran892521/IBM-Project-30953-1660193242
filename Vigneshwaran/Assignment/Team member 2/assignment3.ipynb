{
  "cells": [
    {
      "cell_type": "markdown",
      "metadata": {
        "id": "CpeKCJ_AUGBF"
      },
      "source": [
        "#CNN"
      ]
    },
    {
      "cell_type": "markdown",
      "metadata": {
        "id": "qqtqCtaeUK4q"
      },
      "source": [
        "##Download the Dataset"
      ]
    },
    {
      "cell_type": "code",
      "execution_count": null,
      "metadata": {
        "colab": {
          "base_uri": "https://localhost:8080/"
        },
        "id": "LaXxQAA9TPg8",
        "outputId": "af471cb4-05db-4ad7-e87a-af0a8dd4b3ae"
      },
      "outputs": [
        {
          "output_type": "stream",
          "name": "stdout",
          "text": [
            "Mounted at /content/drive\n"
          ]
        }
      ],
      "source": [
        "from google.colab import drive\n",
        "drive.mount('/content/drive')"
      ]
    },
    {
      "cell_type": "code",
      "execution_count": null,
      "metadata": {
        "colab": {
          "base_uri": "https://localhost:8080/"
        },
        "id": "sOEPC2yRUQ6D",
        "outputId": "9c6cac6c-3719-4562-ac86-26b8bc4eb2c1"
      },
      "outputs": [
        {
          "output_type": "stream",
          "name": "stdout",
          "text": [
            "/content/drive/MyDrive\n"
          ]
        }
      ],
      "source": [
        "cd/content/drive/MyDrive"
      ]
    },
    {
      "cell_type": "code",
      "execution_count": null,
      "metadata": {
        "id": "MWY8V8NPVXA5"
      },
      "outputs": [],
      "source": [
        "!unzip Flowers-Dataset.zip"
      ]
    },
    {
      "cell_type": "markdown",
      "metadata": {
        "id": "md8iBuH-Wdkp"
      },
      "source": [
        "##Image Augmentation"
      ]
    },
    {
      "cell_type": "code",
      "execution_count": null,
      "metadata": {
        "id": "iEhXCFNhWdBc"
      },
      "outputs": [],
      "source": [
        "  from tensorflow.keras.preprocessing.image import ImageDataGenerator"
      ]
    },
    {
      "cell_type": "code",
      "execution_count": null,
      "metadata": {
        "id": "Pl8EZnqTbrik"
      },
      "outputs": [],
      "source": [
        "train_datagen=ImageDataGenerator(rescale=1./255,zoom_range=0.2,horizontal_flip=True,vertical_flip=False)"
      ]
    },
    {
      "cell_type": "code",
      "execution_count": null,
      "metadata": {
        "id": "rm5akr7KiNYF"
      },
      "outputs": [],
      "source": [
        "test_datagen=ImageDataGenerator(rescale=1./255)"
      ]
    },
    {
      "cell_type": "code",
      "execution_count": null,
      "metadata": {
        "colab": {
          "base_uri": "https://localhost:8080/"
        },
        "id": "D3jRRoTmm0bG",
        "outputId": "1bdbd4ac-408e-4713-f0b2-2d771aac3c2b"
      },
      "outputs": [
        {
          "output_type": "stream",
          "name": "stdout",
          "text": [
            "Looking in indexes: https://pypi.org/simple, https://us-python.pkg.dev/colab-wheels/public/simple/\n",
            "Collecting split-folders\n",
            "  Downloading split_folders-0.5.1-py3-none-any.whl (8.4 kB)\n",
            "Installing collected packages: split-folders\n",
            "Successfully installed split-folders-0.5.1\n"
          ]
        }
      ],
      "source": [
        "pip install split-folders"
      ]
    },
    {
      "cell_type": "code",
      "execution_count": null,
      "metadata": {
        "id": "v7znw0vunHbA"
      },
      "outputs": [],
      "source": [
        "import splitfolders"
      ]
    },
    {
      "cell_type": "code",
      "execution_count": null,
      "metadata": {
        "id": "JZ5IRBzmnKkU"
      },
      "outputs": [],
      "source": [
        "input_folder='/content/drive/MyDrive/flowers'"
      ]
    },
    {
      "cell_type": "code",
      "execution_count": null,
      "metadata": {
        "colab": {
          "base_uri": "https://localhost:8080/"
        },
        "id": "ohruCbs0nR9K",
        "outputId": "7cb0ff78-3d47-44a4-8753-ec6a5ac6d85d"
      },
      "outputs": [
        {
          "name": "stderr",
          "output_type": "stream",
          "text": [
            "\n",
            "Copying files: 0 files [00:00, ? files/s]\u001b[A\n",
            "Copying files: 1 files [00:00,  5.66 files/s]\u001b[A\n",
            "Copying files: 10 files [00:00, 41.08 files/s]\u001b[A\n",
            "Copying files: 15 files [00:01, 12.87 files/s]\u001b[A\n",
            "Copying files: 24 files [00:01, 23.08 files/s]\u001b[A\n",
            "Copying files: 30 files [00:01, 28.95 files/s]\u001b[A\n",
            "Copying files: 39 files [00:01, 40.27 files/s]\u001b[A\n",
            "Copying files: 46 files [00:01, 45.38 files/s]\u001b[A\n",
            "Copying files: 56 files [00:01, 56.62 files/s]\u001b[A\n",
            "Copying files: 64 files [00:01, 59.87 files/s]\u001b[A\n",
            "Copying files: 74 files [00:01, 68.83 files/s]\u001b[A\n",
            "Copying files: 82 files [00:01, 68.78 files/s]\u001b[A\n",
            "Copying files: 90 files [00:02, 70.66 files/s]\u001b[A\n",
            "Copying files: 98 files [00:02, 69.82 files/s]\u001b[A\n",
            "Copying files: 108 files [00:02, 76.65 files/s]\u001b[A\n",
            "Copying files: 116 files [00:02, 75.25 files/s]\u001b[A\n",
            "Copying files: 124 files [00:02, 75.48 files/s]\u001b[A\n",
            "Copying files: 132 files [00:02, 74.39 files/s]\u001b[A\n",
            "Copying files: 140 files [00:02, 75.88 files/s]\u001b[A\n",
            "Copying files: 148 files [00:02, 75.00 files/s]\u001b[A\n",
            "Copying files: 157 files [00:02, 77.44 files/s]\u001b[A\n",
            "Copying files: 165 files [00:03, 74.04 files/s]\u001b[A\n",
            "Copying files: 173 files [00:03, 75.62 files/s]\u001b[A\n",
            "Copying files: 181 files [00:03, 74.41 files/s]\u001b[A\n",
            "Copying files: 191 files [00:03, 80.07 files/s]\u001b[A\n",
            "Copying files: 200 files [00:03, 76.64 files/s]\u001b[A\n",
            "Copying files: 209 files [00:03, 79.32 files/s]\u001b[A\n",
            "Copying files: 217 files [00:03, 74.08 files/s]\u001b[A\n",
            "Copying files: 225 files [00:03, 74.90 files/s]\u001b[A\n",
            "Copying files: 233 files [00:03, 73.70 files/s]\u001b[A\n",
            "Copying files: 241 files [00:04, 72.32 files/s]\u001b[A\n",
            "Copying files: 250 files [00:04, 75.80 files/s]\u001b[A\n",
            "Copying files: 258 files [00:04, 74.20 files/s]\u001b[A\n",
            "Copying files: 267 files [00:04, 77.23 files/s]\u001b[A\n",
            "Copying files: 275 files [00:04, 73.25 files/s]\u001b[A\n",
            "Copying files: 285 files [00:04, 78.93 files/s]\u001b[A\n",
            "Copying files: 293 files [00:04, 75.34 files/s]\u001b[A\n",
            "Copying files: 303 files [00:04, 80.12 files/s]\u001b[A\n",
            "Copying files: 312 files [00:04, 75.17 files/s]\u001b[A\n",
            "Copying files: 320 files [00:05, 72.21 files/s]\u001b[A\n",
            "Copying files: 328 files [00:05, 73.31 files/s]\u001b[A\n",
            "Copying files: 336 files [00:05, 72.86 files/s]\u001b[A\n",
            "Copying files: 345 files [00:05, 75.86 files/s]\u001b[A\n",
            "Copying files: 353 files [00:05, 75.13 files/s]\u001b[A\n",
            "Copying files: 362 files [00:05, 78.12 files/s]\u001b[A\n",
            "Copying files: 370 files [00:05, 74.68 files/s]\u001b[A\n",
            "Copying files: 378 files [00:05, 75.11 files/s]\u001b[A\n",
            "Copying files: 386 files [00:05, 73.55 files/s]\u001b[A\n",
            "Copying files: 395 files [00:06, 77.13 files/s]\u001b[A\n",
            "Copying files: 403 files [00:06, 74.50 files/s]\u001b[A\n",
            "Copying files: 412 files [00:06, 74.40 files/s]\u001b[A\n",
            "Copying files: 421 files [00:06, 76.67 files/s]\u001b[A\n",
            "Copying files: 429 files [00:06, 74.50 files/s]\u001b[A\n",
            "Copying files: 438 files [00:06, 77.38 files/s]\u001b[A\n",
            "Copying files: 446 files [00:06, 74.82 files/s]\u001b[A\n",
            "Copying files: 455 files [00:06, 76.77 files/s]\u001b[A\n",
            "Copying files: 463 files [00:06, 71.33 files/s]\u001b[A\n",
            "Copying files: 471 files [00:07, 71.19 files/s]\u001b[A\n",
            "Copying files: 479 files [00:07, 72.24 files/s]\u001b[A\n",
            "Copying files: 487 files [00:07, 73.26 files/s]\u001b[A\n",
            "Copying files: 497 files [00:07, 78.15 files/s]\u001b[A\n",
            "Copying files: 505 files [00:07, 74.72 files/s]\u001b[A\n",
            "Copying files: 515 files [00:07, 76.60 files/s]\u001b[A\n",
            "Copying files: 523 files [00:07, 75.38 files/s]\u001b[A\n",
            "Copying files: 531 files [00:07, 72.86 files/s]\u001b[A\n",
            "Copying files: 540 files [00:07, 76.39 files/s]\u001b[A\n",
            "Copying files: 548 files [00:08, 72.91 files/s]\u001b[A\n",
            "Copying files: 557 files [00:08, 72.58 files/s]\u001b[A\n",
            "Copying files: 565 files [00:08, 72.89 files/s]\u001b[A\n",
            "Copying files: 573 files [00:08, 67.83 files/s]\u001b[A\n",
            "Copying files: 581 files [00:08, 70.77 files/s]\u001b[A\n",
            "Copying files: 589 files [00:08, 68.81 files/s]\u001b[A\n",
            "Copying files: 597 files [00:08, 71.30 files/s]\u001b[A\n",
            "Copying files: 605 files [00:08, 68.30 files/s]\u001b[A\n",
            "Copying files: 612 files [00:09, 66.56 files/s]\u001b[A\n",
            "Copying files: 619 files [00:09, 66.42 files/s]\u001b[A\n",
            "Copying files: 627 files [00:09, 69.07 files/s]\u001b[A\n",
            "Copying files: 634 files [00:09, 67.62 files/s]\u001b[A\n",
            "Copying files: 643 files [00:09, 73.64 files/s]\u001b[A\n",
            "Copying files: 651 files [00:09, 70.30 files/s]\u001b[A\n",
            "Copying files: 660 files [00:09, 74.43 files/s]\u001b[A\n",
            "Copying files: 668 files [00:09, 69.92 files/s]\u001b[A\n",
            "Copying files: 676 files [00:09, 71.90 files/s]\u001b[A\n",
            "Copying files: 684 files [00:10, 70.51 files/s]\u001b[A\n",
            "Copying files: 692 files [00:10, 72.07 files/s]\u001b[A\n",
            "Copying files: 700 files [00:10, 68.59 files/s]\u001b[A\n",
            "Copying files: 709 files [00:10, 72.90 files/s]\u001b[A\n",
            "Copying files: 717 files [00:10, 70.34 files/s]\u001b[A\n",
            "Copying files: 726 files [00:10, 73.99 files/s]\u001b[A\n",
            "Copying files: 734 files [00:10, 70.61 files/s]\u001b[A\n",
            "Copying files: 742 files [00:10, 72.46 files/s]\u001b[A\n",
            "Copying files: 750 files [00:10, 69.35 files/s]\u001b[A\n",
            "Copying files: 759 files [00:11, 73.36 files/s]\u001b[A\n",
            "Copying files: 767 files [00:11, 42.86 files/s]\u001b[A\n",
            "Copying files: 776 files [00:11, 50.14 files/s]\u001b[A\n",
            "Copying files: 783 files [00:12, 20.12 files/s]\u001b[A\n",
            "Copying files: 792 files [00:12, 26.67 files/s]\u001b[A\n",
            "Copying files: 799 files [00:12, 31.71 files/s]\u001b[A\n",
            "Copying files: 808 files [00:12, 39.95 files/s]\u001b[A\n",
            "Copying files: 815 files [00:12, 43.36 files/s]\u001b[A\n",
            "Copying files: 825 files [00:13, 53.70 files/s]\u001b[A\n",
            "Copying files: 833 files [00:13, 56.81 files/s]\u001b[A\n",
            "Copying files: 841 files [00:13, 61.31 files/s]\u001b[A\n",
            "Copying files: 849 files [00:13, 63.32 files/s]\u001b[A\n",
            "Copying files: 858 files [00:13, 69.03 files/s]\u001b[A\n",
            "Copying files: 866 files [00:13, 66.85 files/s]\u001b[A\n",
            "Copying files: 875 files [00:13, 72.40 files/s]\u001b[A\n",
            "Copying files: 883 files [00:13, 70.62 files/s]\u001b[A\n",
            "Copying files: 892 files [00:13, 74.84 files/s]\u001b[A\n",
            "Copying files: 900 files [00:14, 73.34 files/s]\u001b[A\n",
            "Copying files: 908 files [00:14, 74.13 files/s]\u001b[A\n",
            "Copying files: 916 files [00:14, 69.16 files/s]\u001b[A\n",
            "Copying files: 926 files [00:14, 75.50 files/s]\u001b[A\n",
            "Copying files: 934 files [00:14, 74.57 files/s]\u001b[A\n",
            "Copying files: 944 files [00:14, 79.55 files/s]\u001b[A\n",
            "Copying files: 953 files [00:14, 75.50 files/s]\u001b[A\n",
            "Copying files: 961 files [00:14, 72.20 files/s]\u001b[A\n",
            "Copying files: 971 files [00:15, 78.40 files/s]\u001b[A\n",
            "Copying files: 979 files [00:15, 75.71 files/s]\u001b[A\n",
            "Copying files: 989 files [00:15, 80.92 files/s]\u001b[A\n",
            "Copying files: 998 files [00:15, 76.56 files/s]\u001b[A\n",
            "Copying files: 1007 files [00:15, 79.08 files/s]\u001b[A\n",
            "Copying files: 1016 files [00:15, 74.75 files/s]\u001b[A\n",
            "Copying files: 1024 files [00:15, 73.11 files/s]\u001b[A\n",
            "Copying files: 1033 files [00:15, 76.38 files/s]\u001b[A\n",
            "Copying files: 1041 files [00:15, 73.69 files/s]\u001b[A\n",
            "Copying files: 1050 files [00:16, 77.82 files/s]\u001b[A\n",
            "Copying files: 1058 files [00:16, 75.88 files/s]\u001b[A\n",
            "Copying files: 1067 files [00:16, 78.54 files/s]\u001b[A\n",
            "Copying files: 1075 files [00:16, 73.79 files/s]\u001b[A\n",
            "Copying files: 1083 files [00:16, 74.91 files/s]\u001b[A\n",
            "Copying files: 1091 files [00:16, 74.51 files/s]\u001b[A\n",
            "Copying files: 1099 files [00:16, 70.14 files/s]\u001b[A\n",
            "Copying files: 1107 files [00:17, 46.79 files/s]\u001b[A\n",
            "Copying files: 1115 files [00:17, 53.30 files/s]\u001b[A\n",
            "Copying files: 1122 files [00:17, 55.17 files/s]\u001b[A\n",
            "Copying files: 1130 files [00:17, 59.99 files/s]\u001b[A\n",
            "Copying files: 1137 files [00:17, 61.04 files/s]\u001b[A\n",
            "Copying files: 1146 files [00:17, 66.27 files/s]\u001b[A\n",
            "Copying files: 1153 files [00:17, 65.82 files/s]\u001b[A\n",
            "Copying files: 1162 files [00:17, 70.97 files/s]\u001b[A\n",
            "Copying files: 1170 files [00:17, 70.16 files/s]\u001b[A\n",
            "Copying files: 1178 files [00:18, 67.82 files/s]\u001b[A\n",
            "Copying files: 1186 files [00:18, 70.21 files/s]\u001b[A\n",
            "Copying files: 1194 files [00:18, 66.60 files/s]\u001b[A\n",
            "Copying files: 1203 files [00:18, 71.15 files/s]\u001b[A\n",
            "Copying files: 1211 files [00:18, 70.11 files/s]\u001b[A\n",
            "Copying files: 1220 files [00:18, 73.55 files/s]\u001b[A\n",
            "Copying files: 1228 files [00:18, 71.57 files/s]\u001b[A\n",
            "Copying files: 1237 files [00:18, 74.65 files/s]\u001b[A\n",
            "Copying files: 1245 files [00:18, 70.49 files/s]\u001b[A\n",
            "Copying files: 1253 files [00:19, 71.48 files/s]\u001b[A\n",
            "Copying files: 1263 files [00:19, 77.56 files/s]\u001b[A\n",
            "Copying files: 1271 files [00:19, 73.74 files/s]\u001b[A\n",
            "Copying files: 1279 files [00:19, 74.88 files/s]\u001b[A\n",
            "Copying files: 1287 files [00:19, 72.51 files/s]\u001b[A\n",
            "Copying files: 1296 files [00:19, 70.97 files/s]\u001b[A\n",
            "Copying files: 1305 files [00:19, 74.43 files/s]\u001b[A\n",
            "Copying files: 1313 files [00:19, 71.83 files/s]\u001b[A\n",
            "Copying files: 1321 files [00:20, 72.73 files/s]\u001b[A\n",
            "Copying files: 1329 files [00:20, 72.21 files/s]\u001b[A\n",
            "Copying files: 1338 files [00:20, 72.63 files/s]\u001b[A\n",
            "Copying files: 1347 files [00:20, 75.21 files/s]\u001b[A\n",
            "Copying files: 1355 files [00:20, 69.10 files/s]\u001b[A\n",
            "Copying files: 1364 files [00:20, 73.78 files/s]\u001b[A\n",
            "Copying files: 1372 files [00:20, 70.30 files/s]\u001b[A\n",
            "Copying files: 1380 files [00:20, 69.13 files/s]\u001b[A\n",
            "Copying files: 1389 files [00:20, 73.59 files/s]\u001b[A\n",
            "Copying files: 1397 files [00:21, 72.60 files/s]\u001b[A\n",
            "Copying files: 1405 files [00:21, 74.55 files/s]\u001b[A\n",
            "Copying files: 1413 files [00:21, 70.58 files/s]\u001b[A\n",
            "Copying files: 1422 files [00:21, 75.09 files/s]\u001b[A\n",
            "Copying files: 1430 files [00:21, 72.48 files/s]\u001b[A\n",
            "Copying files: 1438 files [00:21, 70.17 files/s]\u001b[A\n",
            "Copying files: 1447 files [00:21, 74.91 files/s]\u001b[A\n",
            "Copying files: 1455 files [00:21, 70.01 files/s]\u001b[A\n",
            "Copying files: 1464 files [00:21, 72.07 files/s]\u001b[A\n",
            "Copying files: 1472 files [00:22, 71.59 files/s]\u001b[A\n",
            "Copying files: 1480 files [00:22, 68.95 files/s]\u001b[A\n",
            "Copying files: 1489 files [00:22, 72.11 files/s]\u001b[A\n",
            "Copying files: 1497 files [00:22, 67.87 files/s]\u001b[A\n",
            "Copying files: 1506 files [00:22, 68.56 files/s]\u001b[A\n",
            "Copying files: 1515 files [00:22, 73.64 files/s]\u001b[A\n",
            "Copying files: 1523 files [00:22, 70.53 files/s]\u001b[A\n",
            "Copying files: 1532 files [00:22, 73.84 files/s]\u001b[A\n",
            "Copying files: 1540 files [00:23, 71.63 files/s]\u001b[A\n",
            "Copying files: 1549 files [00:23, 70.69 files/s]\u001b[A\n",
            "Copying files: 1557 files [00:23, 71.98 files/s]\u001b[A\n",
            "Copying files: 1565 files [00:23, 70.38 files/s]\u001b[A\n",
            "Copying files: 1573 files [00:23, 71.51 files/s]\u001b[A\n",
            "Copying files: 1581 files [00:23, 70.05 files/s]\u001b[A\n",
            "Copying files: 1591 files [00:23, 71.92 files/s]\u001b[A\n",
            "Copying files: 1599 files [00:23, 73.41 files/s]\u001b[A\n",
            "Copying files: 1607 files [00:24, 68.27 files/s]\u001b[A\n",
            "Copying files: 1617 files [00:24, 75.46 files/s]\u001b[A\n",
            "Copying files: 1625 files [00:24, 72.35 files/s]\u001b[A\n",
            "Copying files: 1633 files [00:24, 73.52 files/s]\u001b[A\n",
            "Copying files: 1641 files [00:24, 71.15 files/s]\u001b[A\n",
            "Copying files: 1649 files [00:24, 73.44 files/s]\u001b[A\n",
            "Copying files: 1657 files [00:24, 71.67 files/s]\u001b[A\n",
            "Copying files: 1666 files [00:24, 76.23 files/s]\u001b[A\n",
            "Copying files: 1674 files [00:24, 72.12 files/s]\u001b[A\n",
            "Copying files: 1682 files [00:25, 73.52 files/s]\u001b[A\n",
            "Copying files: 1690 files [00:25, 72.68 files/s]\u001b[A\n",
            "Copying files: 1700 files [00:25, 78.69 files/s]\u001b[A\n",
            "Copying files: 1708 files [00:25, 77.62 files/s]\u001b[A\n",
            "Copying files: 1717 files [00:25, 80.29 files/s]\u001b[A\n",
            "Copying files: 1726 files [00:25, 75.51 files/s]\u001b[A\n",
            "Copying files: 1735 files [00:25, 78.30 files/s]\u001b[A\n",
            "Copying files: 1743 files [00:25, 75.71 files/s]\u001b[A\n",
            "Copying files: 1752 files [00:25, 78.13 files/s]\u001b[A\n",
            "Copying files: 1760 files [00:26, 77.23 files/s]\u001b[A\n",
            "Copying files: 1769 files [00:26, 79.53 files/s]\u001b[A\n",
            "Copying files: 1777 files [00:26, 75.66 files/s]\u001b[A\n",
            "Copying files: 1786 files [00:26, 78.02 files/s]\u001b[A\n",
            "Copying files: 1794 files [00:26, 72.12 files/s]\u001b[A\n",
            "Copying files: 1803 files [00:26, 76.39 files/s]\u001b[A\n",
            "Copying files: 1811 files [00:26, 73.43 files/s]\u001b[A\n",
            "Copying files: 1819 files [00:26, 51.55 files/s]\u001b[A\n",
            "Copying files: 1826 files [00:27, 50.65 files/s]\u001b[A\n",
            "Copying files: 1832 files [00:27, 26.92 files/s]\u001b[A\n",
            "Copying files: 1839 files [00:27, 32.10 files/s]\u001b[A\n",
            "Copying files: 1848 files [00:27, 41.27 files/s]\u001b[A\n",
            "Copying files: 1855 files [00:28, 45.04 files/s]\u001b[A\n",
            "Copying files: 1865 files [00:28, 55.40 files/s]\u001b[A\n",
            "Copying files: 1872 files [00:28, 57.60 files/s]\u001b[A\n",
            "Copying files: 1882 files [00:28, 67.47 files/s]\u001b[A\n",
            "Copying files: 1890 files [00:28, 68.00 files/s]\u001b[A\n",
            "Copying files: 1899 files [00:28, 71.54 files/s]\u001b[A\n",
            "Copying files: 1907 files [00:28, 69.16 files/s]\u001b[A\n",
            "Copying files: 1916 files [00:28, 74.00 files/s]\u001b[A\n",
            "Copying files: 1924 files [00:28, 72.71 files/s]\u001b[A\n",
            "Copying files: 1933 files [00:28, 75.92 files/s]\u001b[A\n",
            "Copying files: 1941 files [00:29, 70.06 files/s]\u001b[A\n",
            "Copying files: 1950 files [00:29, 74.04 files/s]\u001b[A\n",
            "Copying files: 1958 files [00:29, 71.72 files/s]\u001b[A\n",
            "Copying files: 1967 files [00:29, 75.62 files/s]\u001b[A\n",
            "Copying files: 1975 files [00:29, 73.23 files/s]\u001b[A\n",
            "Copying files: 1984 files [00:29, 76.86 files/s]\u001b[A\n",
            "Copying files: 1992 files [00:29, 74.76 files/s]\u001b[A\n",
            "Copying files: 2000 files [00:29, 76.20 files/s]\u001b[A\n",
            "Copying files: 2008 files [00:30, 72.34 files/s]\u001b[A\n",
            "Copying files: 2017 files [00:30, 76.41 files/s]\u001b[A\n",
            "Copying files: 2025 files [00:30, 75.20 files/s]\u001b[A\n",
            "Copying files: 2033 files [00:30, 75.73 files/s]\u001b[A\n",
            "Copying files: 2041 files [00:30, 70.97 files/s]\u001b[A\n",
            "Copying files: 2051 files [00:30, 77.32 files/s]\u001b[A\n",
            "Copying files: 2059 files [00:30, 73.45 files/s]\u001b[A\n",
            "Copying files: 2067 files [00:30, 73.13 files/s]\u001b[A\n",
            "Copying files: 2075 files [00:30, 69.46 files/s]\u001b[A\n",
            "Copying files: 2084 files [00:31, 69.57 files/s]\u001b[A\n",
            "Copying files: 2093 files [00:31, 73.70 files/s]\u001b[A\n",
            "Copying files: 2101 files [00:31, 70.43 files/s]\u001b[A\n",
            "Copying files: 2110 files [00:31, 74.26 files/s]\u001b[A\n",
            "Copying files: 2118 files [00:31, 71.38 files/s]\u001b[A\n",
            "Copying files: 2126 files [00:31, 71.35 files/s]\u001b[A\n",
            "Copying files: 2134 files [00:31, 67.82 files/s]\u001b[A\n",
            "Copying files: 2143 files [00:31, 71.33 files/s]\u001b[A\n",
            "Copying files: 2151 files [00:32, 68.29 files/s]\u001b[A\n",
            "Copying files: 2158 files [00:32, 63.88 files/s]\u001b[A\n",
            "Copying files: 2165 files [00:32, 43.66 files/s]\u001b[A\n",
            "Copying files: 2173 files [00:32, 50.25 files/s]\u001b[A\n",
            "Copying files: 2180 files [00:32, 53.96 files/s]\u001b[A\n",
            "Copying files: 2187 files [00:32, 57.39 files/s]\u001b[A\n",
            "Copying files: 2194 files [00:32, 59.11 files/s]\u001b[A\n",
            "Copying files: 2203 files [00:32, 65.83 files/s]\u001b[A\n",
            "Copying files: 2210 files [00:33, 65.49 files/s]\u001b[A\n",
            "Copying files: 2218 files [00:33, 69.24 files/s]\u001b[A\n",
            "Copying files: 2226 files [00:33, 70.87 files/s]\u001b[A\n",
            "Copying files: 2235 files [00:33, 74.46 files/s]\u001b[A\n",
            "Copying files: 2243 files [00:33, 71.16 files/s]\u001b[A\n",
            "Copying files: 2252 files [00:33, 70.26 files/s]\u001b[A\n",
            "Copying files: 2261 files [00:33, 73.54 files/s]\u001b[A\n",
            "Copying files: 2269 files [00:33, 73.22 files/s]\u001b[A\n",
            "Copying files: 2278 files [00:33, 76.29 files/s]\u001b[A\n",
            "Copying files: 2286 files [00:34, 72.85 files/s]\u001b[A\n",
            "Copying files: 2295 files [00:34, 76.60 files/s]\u001b[A\n",
            "Copying files: 2303 files [00:34, 72.10 files/s]\u001b[A\n",
            "Copying files: 2312 files [00:34, 71.53 files/s]\u001b[A\n",
            "Copying files: 2322 files [00:34, 77.24 files/s]\u001b[A\n",
            "Copying files: 2330 files [00:34, 72.55 files/s]\u001b[A\n",
            "Copying files: 2338 files [00:34, 72.77 files/s]\u001b[A\n",
            "Copying files: 2346 files [00:34, 69.83 files/s]\u001b[A\n",
            "Copying files: 2354 files [00:35, 69.58 files/s]\u001b[A\n",
            "Copying files: 2363 files [00:35, 73.88 files/s]\u001b[A\n",
            "Copying files: 2371 files [00:35, 72.52 files/s]\u001b[A\n",
            "Copying files: 2380 files [00:35, 77.02 files/s]\u001b[A\n",
            "Copying files: 2388 files [00:35, 72.41 files/s]\u001b[A\n",
            "Copying files: 2397 files [00:35, 71.53 files/s]\u001b[A\n",
            "Copying files: 2406 files [00:35, 75.00 files/s]\u001b[A\n",
            "Copying files: 2414 files [00:35, 71.42 files/s]\u001b[A\n",
            "Copying files: 2424 files [00:35, 77.64 files/s]\u001b[A\n",
            "Copying files: 2432 files [00:36, 73.58 files/s]\u001b[A\n",
            "Copying files: 2440 files [00:36, 70.71 files/s]\u001b[A\n",
            "Copying files: 2448 files [00:36, 72.69 files/s]\u001b[A\n",
            "Copying files: 2456 files [00:36, 69.99 files/s]\u001b[A\n",
            "Copying files: 2465 files [00:36, 74.40 files/s]\u001b[A\n",
            "Copying files: 2473 files [00:36, 72.82 files/s]\u001b[A\n",
            "Copying files: 2482 files [00:36, 75.75 files/s]\u001b[A\n",
            "Copying files: 2490 files [00:36, 71.16 files/s]\u001b[A\n",
            "Copying files: 2499 files [00:37, 74.80 files/s]\u001b[A\n",
            "Copying files: 2507 files [00:37, 70.36 files/s]\u001b[A\n",
            "Copying files: 2516 files [00:37, 74.44 files/s]\u001b[A\n",
            "Copying files: 2524 files [00:37, 73.33 files/s]\u001b[A\n",
            "Copying files: 2533 files [00:37, 77.49 files/s]\u001b[A\n",
            "Copying files: 2541 files [00:37, 74.47 files/s]\u001b[A\n",
            "Copying files: 2551 files [00:37, 80.35 files/s]\u001b[A\n",
            "Copying files: 2560 files [00:37, 77.60 files/s]\u001b[A\n",
            "Copying files: 2569 files [00:37, 77.56 files/s]\u001b[A\n",
            "Copying files: 2577 files [00:38, 75.54 files/s]\u001b[A\n",
            "Copying files: 2585 files [00:38, 76.05 files/s]\u001b[A\n",
            "Copying files: 2593 files [00:38, 74.20 files/s]\u001b[A\n",
            "Copying files: 2601 files [00:38, 50.01 files/s]\u001b[A\n",
            "Copying files: 2608 files [00:38, 52.64 files/s]\u001b[A\n",
            "Copying files: 2615 files [00:39, 26.26 files/s]\u001b[A\n",
            "Copying files: 2622 files [00:39, 31.48 files/s]\u001b[A\n",
            "Copying files: 2630 files [00:39, 38.46 files/s]\u001b[A\n",
            "Copying files: 2638 files [00:39, 44.18 files/s]\u001b[A\n",
            "Copying files: 2647 files [00:39, 52.52 files/s]\u001b[A\n",
            "Copying files: 2654 files [00:39, 55.10 files/s]\u001b[A\n",
            "Copying files: 2662 files [00:39, 59.30 files/s]\u001b[A\n",
            "Copying files: 2670 files [00:40, 63.09 files/s]\u001b[A\n",
            "Copying files: 2677 files [00:40, 63.96 files/s]\u001b[A\n",
            "Copying files: 2686 files [00:40, 69.29 files/s]\u001b[A\n",
            "Copying files: 2694 files [00:40, 69.50 files/s]\u001b[A\n",
            "Copying files: 2702 files [00:40, 71.26 files/s]\u001b[A\n",
            "Copying files: 2710 files [00:40, 70.56 files/s]\u001b[A\n",
            "Copying files: 2719 files [00:40, 75.10 files/s]\u001b[A\n",
            "Copying files: 2727 files [00:40, 70.72 files/s]\u001b[A\n",
            "Copying files: 2735 files [00:40, 69.93 files/s]\u001b[A\n",
            "Copying files: 2743 files [00:41, 67.23 files/s]\u001b[A\n",
            "Copying files: 2752 files [00:41, 71.94 files/s]\u001b[A\n",
            "Copying files: 2760 files [00:41, 68.65 files/s]\u001b[A\n",
            "Copying files: 2768 files [00:41, 69.65 files/s]\u001b[A\n",
            "Copying files: 2776 files [00:41, 65.41 files/s]\u001b[A\n",
            "Copying files: 2784 files [00:41, 68.95 files/s]\u001b[A\n",
            "Copying files: 2792 files [00:41, 67.94 files/s]\u001b[A\n",
            "Copying files: 2801 files [00:41, 72.06 files/s]\u001b[A\n",
            "Copying files: 2809 files [00:42, 69.52 files/s]\u001b[A\n",
            "Copying files: 2817 files [00:42, 71.88 files/s]\u001b[A\n",
            "Copying files: 2825 files [00:42, 69.97 files/s]\u001b[A\n",
            "Copying files: 2834 files [00:42, 70.36 files/s]\u001b[A\n",
            "Copying files: 2842 files [00:42, 72.20 files/s]\u001b[A\n",
            "Copying files: 2850 files [00:42, 71.95 files/s]\u001b[A\n",
            "Copying files: 2859 files [00:42, 74.95 files/s]\u001b[A\n",
            "Copying files: 2867 files [00:42, 72.49 files/s]\u001b[A\n",
            "Copying files: 2875 files [00:42, 73.75 files/s]\u001b[A\n",
            "Copying files: 2883 files [00:43, 68.28 files/s]\u001b[A\n",
            "Copying files: 2892 files [00:43, 73.18 files/s]\u001b[A\n",
            "Copying files: 2900 files [00:43, 69.83 files/s]\u001b[A\n",
            "Copying files: 2909 files [00:43, 73.41 files/s]\u001b[A\n",
            "Copying files: 2917 files [00:43, 71.09 files/s]\u001b[A\n",
            "Copying files: 2925 files [00:43, 69.22 files/s]\u001b[A\n",
            "Copying files: 2932 files [00:43, 66.70 files/s]\u001b[A\n",
            "Copying files: 2941 files [00:43, 71.16 files/s]\u001b[A\n",
            "Copying files: 2949 files [00:43, 68.36 files/s]\u001b[A\n",
            "Copying files: 2957 files [00:44, 69.61 files/s]\u001b[A\n",
            "Copying files: 2965 files [00:44, 68.73 files/s]\u001b[A\n",
            "Copying files: 2974 files [00:44, 69.15 files/s]\u001b[A\n",
            "Copying files: 2982 files [00:44, 70.76 files/s]\u001b[A\n",
            "Copying files: 2990 files [00:44, 66.31 files/s]\u001b[A\n",
            "Copying files: 2999 files [00:44, 71.27 files/s]\u001b[A\n",
            "Copying files: 3007 files [00:44, 67.72 files/s]\u001b[A\n",
            "Copying files: 3014 files [00:44, 68.18 files/s]\u001b[A\n",
            "Copying files: 3021 files [00:45, 66.10 files/s]\u001b[A\n",
            "Copying files: 3030 files [00:45, 72.06 files/s]\u001b[A\n",
            "Copying files: 3038 files [00:45, 70.97 files/s]\u001b[A\n",
            "Copying files: 3047 files [00:45, 74.86 files/s]\u001b[A\n",
            "Copying files: 3055 files [00:45, 71.36 files/s]\u001b[A\n",
            "Copying files: 3064 files [00:45, 75.71 files/s]\u001b[A\n",
            "Copying files: 3072 files [00:45, 73.16 files/s]\u001b[A\n",
            "Copying files: 3080 files [00:45, 70.39 files/s]\u001b[A\n",
            "Copying files: 3089 files [00:45, 73.89 files/s]\u001b[A\n",
            "Copying files: 3097 files [00:46, 67.35 files/s]\u001b[A\n",
            "Copying files: 3106 files [00:46, 72.20 files/s]\u001b[A\n",
            "Copying files: 3114 files [00:46, 70.71 files/s]\u001b[A\n",
            "Copying files: 3122 files [00:46, 68.81 files/s]\u001b[A\n",
            "Copying files: 3129 files [00:46, 68.97 files/s]\u001b[A\n",
            "Copying files: 3136 files [00:46, 66.94 files/s]\u001b[A\n",
            "Copying files: 3145 files [00:46, 71.51 files/s]\u001b[A\n",
            "Copying files: 3153 files [00:46, 69.53 files/s]\u001b[A\n",
            "Copying files: 3161 files [00:47, 71.70 files/s]\u001b[A\n",
            "Copying files: 3169 files [00:47, 68.96 files/s]\u001b[A\n",
            "Copying files: 3178 files [00:47, 69.37 files/s]\u001b[A\n",
            "Copying files: 3187 files [00:47, 71.64 files/s]\u001b[A\n",
            "Copying files: 3195 files [00:47, 44.43 files/s]\u001b[A\n",
            "Copying files: 3205 files [00:47, 53.44 files/s]\u001b[A\n",
            "Copying files: 3212 files [00:47, 55.70 files/s]\u001b[A\n",
            "Copying files: 3220 files [00:48, 60.96 files/s]\u001b[A\n",
            "Copying files: 3227 files [00:48, 60.32 files/s]\u001b[A\n",
            "Copying files: 3236 files [00:48, 67.64 files/s]\u001b[A\n",
            "Copying files: 3244 files [00:48, 66.38 files/s]\u001b[A\n",
            "Copying files: 3253 files [00:48, 71.64 files/s]\u001b[A\n",
            "Copying files: 3261 files [00:48, 70.84 files/s]\u001b[A\n",
            "Copying files: 3270 files [00:48, 74.63 files/s]\u001b[A\n",
            "Copying files: 3278 files [00:48, 72.56 files/s]\u001b[A\n",
            "Copying files: 3287 files [00:48, 76.93 files/s]\u001b[A\n",
            "Copying files: 3295 files [00:49, 74.61 files/s]\u001b[A\n",
            "Copying files: 3303 files [00:49, 75.89 files/s]\u001b[A\n",
            "Copying files: 3311 files [00:49, 72.56 files/s]\u001b[A\n",
            "Copying files: 3320 files [00:49, 75.93 files/s]\u001b[A\n",
            "Copying files: 3328 files [00:49, 75.02 files/s]\u001b[A\n",
            "Copying files: 3336 files [00:49, 49.35 files/s]\u001b[A\n",
            "Copying files: 3343 files [00:49, 51.21 files/s]\u001b[A\n",
            "Copying files: 3349 files [00:51, 12.12 files/s]\u001b[A\n",
            "Copying files: 3359 files [00:51, 17.56 files/s]\u001b[A\n",
            "Copying files: 3368 files [00:51, 23.60 files/s]\u001b[A\n",
            "Copying files: 3375 files [00:51, 28.30 files/s]\u001b[A\n",
            "Copying files: 3385 files [00:52, 37.17 files/s]\u001b[A\n",
            "Copying files: 3393 files [00:52, 42.36 files/s]\u001b[A\n",
            "Copying files: 3400 files [00:52, 46.72 files/s]\u001b[A\n",
            "Copying files: 3408 files [00:52, 51.34 files/s]\u001b[A\n",
            "Copying files: 3417 files [00:52, 59.25 files/s]\u001b[A\n",
            "Copying files: 3425 files [00:52, 61.77 files/s]\u001b[A\n",
            "Copying files: 3434 files [00:52, 67.90 files/s]\u001b[A\n",
            "Copying files: 3442 files [00:52, 69.27 files/s]\u001b[A\n",
            "Copying files: 3452 files [00:52, 75.81 files/s]\u001b[A\n",
            "Copying files: 3461 files [00:53, 66.66 files/s]\u001b[A\n",
            "Copying files: 3470 files [00:53, 70.83 files/s]\u001b[A\n",
            "Copying files: 3478 files [00:53, 68.87 files/s]\u001b[A\n",
            "Copying files: 3486 files [00:53, 71.64 files/s]\u001b[A\n",
            "Copying files: 3494 files [00:53, 71.23 files/s]\u001b[A\n",
            "Copying files: 3502 files [00:53, 73.07 files/s]\u001b[A\n",
            "Copying files: 3510 files [00:53, 70.63 files/s]\u001b[A\n",
            "Copying files: 3520 files [00:53, 77.20 files/s]\u001b[A\n",
            "Copying files: 3528 files [00:53, 74.41 files/s]\u001b[A\n",
            "Copying files: 3537 files [00:54, 76.74 files/s]\u001b[A\n",
            "Copying files: 3545 files [00:54, 72.29 files/s]\u001b[A\n",
            "Copying files: 3554 files [00:54, 71.81 files/s]\u001b[A\n",
            "Copying files: 3562 files [00:54, 73.42 files/s]\u001b[A\n",
            "Copying files: 3570 files [00:54, 70.33 files/s]\u001b[A\n",
            "Copying files: 3579 files [00:54, 75.20 files/s]\u001b[A\n",
            "Copying files: 3587 files [00:54, 72.15 files/s]\u001b[A\n",
            "Copying files: 3596 files [00:54, 75.92 files/s]\u001b[A\n",
            "Copying files: 3604 files [00:55, 73.80 files/s]\u001b[A\n",
            "Copying files: 3613 files [00:55, 77.22 files/s]\u001b[A\n",
            "Copying files: 3621 files [00:55, 72.35 files/s]\u001b[A\n",
            "Copying files: 3629 files [00:55, 73.40 files/s]\u001b[A\n",
            "Copying files: 3637 files [00:55, 71.70 files/s]\u001b[A\n",
            "Copying files: 3646 files [00:55, 71.08 files/s]\u001b[A\n",
            "Copying files: 3655 files [00:55, 74.95 files/s]\u001b[A\n",
            "Copying files: 3663 files [00:55, 71.78 files/s]\u001b[A\n",
            "Copying files: 3672 files [00:55, 74.84 files/s]\u001b[A\n",
            "Copying files: 3680 files [00:56, 72.42 files/s]\u001b[A\n",
            "Copying files: 3688 files [00:56, 74.10 files/s]\u001b[A\n",
            "Copying files: 3696 files [00:56, 69.15 files/s]\u001b[A\n",
            "Copying files: 3705 files [00:56, 74.41 files/s]\u001b[A\n",
            "Copying files: 3713 files [00:56, 73.18 files/s]\u001b[A\n",
            "Copying files: 3722 files [00:56, 71.27 files/s]\u001b[A\n",
            "Copying files: 3730 files [00:56, 73.23 files/s]\u001b[A\n",
            "Copying files: 3738 files [00:56, 70.69 files/s]\u001b[A\n",
            "Copying files: 3747 files [00:56, 74.77 files/s]\u001b[A\n",
            "Copying files: 3755 files [00:57, 72.15 files/s]\u001b[A\n",
            "Copying files: 3764 files [00:57, 76.83 files/s]\u001b[A\n",
            "Copying files: 3772 files [00:57, 74.96 files/s]\u001b[A\n",
            "Copying files: 3781 files [00:57, 77.44 files/s]\u001b[A\n",
            "Copying files: 3789 files [00:57, 73.61 files/s]\u001b[A\n",
            "Copying files: 3798 files [00:57, 73.16 files/s]\u001b[A\n",
            "Copying files: 3806 files [00:57, 73.70 files/s]\u001b[A\n",
            "Copying files: 3814 files [00:57, 72.43 files/s]\u001b[A\n",
            "Copying files: 3824 files [00:58, 77.91 files/s]\u001b[A\n",
            "Copying files: 3832 files [00:58, 74.17 files/s]\u001b[A\n",
            "Copying files: 3841 files [00:58, 78.42 files/s]\u001b[A\n",
            "Copying files: 3849 files [00:58, 73.76 files/s]\u001b[A\n",
            "Copying files: 3857 files [00:58, 69.92 files/s]\u001b[A\n",
            "Copying files: 3865 files [00:58, 71.40 files/s]\u001b[A\n",
            "Copying files: 3873 files [00:58, 69.29 files/s]\u001b[A\n",
            "Copying files: 3881 files [00:58, 70.92 files/s]\u001b[A\n",
            "Copying files: 3889 files [00:58, 69.00 files/s]\u001b[A\n",
            "Copying files: 3896 files [00:59, 68.73 files/s]\u001b[A\n",
            "Copying files: 3903 files [00:59, 64.78 files/s]\u001b[A\n",
            "Copying files: 3911 files [00:59, 65.78 files/s]\u001b[A\n",
            "Copying files: 3920 files [00:59, 70.96 files/s]\u001b[A\n",
            "Copying files: 3928 files [00:59, 66.67 files/s]\u001b[A\n",
            "Copying files: 3937 files [00:59, 72.03 files/s]\u001b[A\n",
            "Copying files: 3945 files [00:59, 67.99 files/s]\u001b[A\n",
            "Copying files: 3953 files [00:59, 68.56 files/s]\u001b[A\n",
            "Copying files: 3961 files [00:59, 71.40 files/s]\u001b[A\n",
            "Copying files: 3969 files [01:00, 69.77 files/s]\u001b[A\n",
            "Copying files: 3978 files [01:00, 74.12 files/s]\u001b[A\n",
            "Copying files: 3986 files [01:00, 72.92 files/s]\u001b[A\n",
            "Copying files: 3994 files [01:00, 74.59 files/s]\u001b[A\n",
            "Copying files: 4002 files [01:00, 66.79 files/s]\u001b[A\n",
            "Copying files: 4010 files [01:00, 65.45 files/s]\u001b[A\n",
            "Copying files: 4019 files [01:00, 69.67 files/s]\u001b[A\n",
            "Copying files: 4027 files [01:00, 68.65 files/s]\u001b[A\n",
            "Copying files: 4037 files [01:01, 71.77 files/s]\u001b[A\n",
            "Copying files: 4045 files [01:01, 72.74 files/s]\u001b[A\n",
            "Copying files: 4053 files [01:01, 72.08 files/s]\u001b[A\n",
            "Copying files: 4061 files [01:01, 73.96 files/s]\u001b[A\n",
            "Copying files: 4069 files [01:01, 68.76 files/s]\u001b[A\n",
            "Copying files: 4078 files [01:01, 73.12 files/s]\u001b[A\n",
            "Copying files: 4086 files [01:01, 70.76 files/s]\u001b[A\n",
            "Copying files: 4094 files [01:01, 67.93 files/s]\u001b[A\n",
            "Copying files: 4103 files [01:01, 72.94 files/s]\u001b[A\n",
            "Copying files: 4111 files [01:02, 69.37 files/s]\u001b[A\n",
            "Copying files: 4119 files [01:02, 72.10 files/s]\u001b[A\n",
            "Copying files: 4127 files [01:02, 68.48 files/s]\u001b[A\n",
            "Copying files: 4136 files [01:02, 72.45 files/s]\u001b[A\n",
            "Copying files: 4144 files [01:02, 71.67 files/s]\u001b[A\n",
            "Copying files: 4154 files [01:02, 78.72 files/s]\u001b[A\n",
            "Copying files: 4162 files [01:02, 75.94 files/s]\u001b[A\n",
            "Copying files: 4170 files [01:02, 76.73 files/s]\u001b[A\n",
            "Copying files: 4178 files [01:03, 73.11 files/s]\u001b[A\n",
            "Copying files: 4187 files [01:03, 77.71 files/s]\u001b[A\n",
            "Copying files: 4195 files [01:03, 72.97 files/s]\u001b[A\n",
            "Copying files: 4203 files [01:03, 73.42 files/s]\u001b[A\n",
            "Copying files: 4211 files [01:03, 70.47 files/s]\u001b[A\n",
            "Copying files: 4220 files [01:03, 73.91 files/s]\u001b[A\n",
            "Copying files: 4228 files [01:03, 71.10 files/s]\u001b[A\n",
            "Copying files: 4236 files [01:03, 71.12 files/s]\u001b[A\n",
            "Copying files: 4244 files [01:03, 67.64 files/s]\u001b[A\n",
            "Copying files: 4251 files [01:04, 67.85 files/s]\u001b[A\n",
            "Copying files: 4258 files [01:04, 64.25 files/s]\u001b[A\n",
            "Copying files: 4267 files [01:04, 70.78 files/s]\u001b[A\n",
            "Copying files: 4275 files [01:04, 70.07 files/s]\u001b[A\n",
            "Copying files: 4283 files [01:04, 71.06 files/s]\u001b[A\n",
            "Copying files: 4291 files [01:04, 69.35 files/s]\u001b[A\n",
            "Copying files: 4299 files [01:04, 71.91 files/s]\u001b[A\n",
            "Copying files: 4307 files [01:04, 68.58 files/s]\u001b[A\n",
            "Copying files: 4317 files [01:05, 66.39 files/s]\n"
          ]
        }
      ],
      "source": [
        "splitfolders.ratio(input_folder,output='/content/drive/MyDrive/flowersdataset',ratio=(.8,0,.2),group_prefix=None)"
      ]
    },
    {
      "cell_type": "code",
      "execution_count": null,
      "metadata": {
        "colab": {
          "base_uri": "https://localhost:8080/"
        },
        "id": "RS57jFfDnopF",
        "outputId": "1f51af2d-dc1c-4e67-b883-5008a4227a7b"
      },
      "outputs": [
        {
          "output_type": "stream",
          "name": "stdout",
          "text": [
            "Found 3452 images belonging to 5 classes.\n"
          ]
        }
      ],
      "source": [
        "x_train=train_datagen.flow_from_directory(r\"/content/drive/MyDrive/flowersdataset/train\",target_size=(64,64),class_mode='categorical',batch_size=24)"
      ]
    },
    {
      "cell_type": "code",
      "execution_count": null,
      "metadata": {
        "colab": {
          "base_uri": "https://localhost:8080/"
        },
        "id": "oBKCxClUoamW",
        "outputId": "1283d3b7-6300-4763-8ae8-de8b26812eea"
      },
      "outputs": [
        {
          "output_type": "stream",
          "name": "stdout",
          "text": [
            "Found 865 images belonging to 5 classes.\n"
          ]
        }
      ],
      "source": [
        "x_test=test_datagen.flow_from_directory(r\"/content/drive/MyDrive/flowersdataset/test\",target_size=(64,64),class_mode='categorical',batch_size=24)"
      ]
    },
    {
      "cell_type": "code",
      "execution_count": null,
      "metadata": {
        "colab": {
          "base_uri": "https://localhost:8080/"
        },
        "id": "Y9aboavkonYi",
        "outputId": "0c655506-9309-476f-b9f7-689289c4a771"
      },
      "outputs": [
        {
          "output_type": "execute_result",
          "data": {
            "text/plain": [
              "{'daisy': 0, 'dandelion': 1, 'rose': 2, 'sunflower': 3, 'tulip': 4}"
            ]
          },
          "metadata": {},
          "execution_count": 10
        }
      ],
      "source": [
        "x_train.class_indices"
      ]
    },
    {
      "cell_type": "markdown",
      "metadata": {
        "id": "5HOGii3qtvts"
      },
      "source": [
        "##Create Model"
      ]
    },
    {
      "cell_type": "markdown",
      "metadata": {
        "id": "oXdwxhxftvse"
      },
      "source": []
    },
    {
      "cell_type": "code",
      "execution_count": null,
      "metadata": {
        "id": "FOXqTO0QsTQP"
      },
      "outputs": [],
      "source": [
        "from tensorflow.keras.models import Sequential\n",
        "from tensorflow.keras.layers import Dense,Convolution2D,MaxPooling2D,Flatten"
      ]
    },
    {
      "cell_type": "code",
      "execution_count": null,
      "metadata": {
        "id": "vJrrUFZ4t4-M"
      },
      "outputs": [],
      "source": [
        "model=Sequential()"
      ]
    },
    {
      "cell_type": "markdown",
      "metadata": {
        "id": "g-ApELjJuF3Y"
      },
      "source": [
        "##Add Layers(Convolution,MaxPooling,Flatten,\n",
        "##Dense,Hidden,Output Layers)"
      ]
    },
    {
      "cell_type": "code",
      "execution_count": null,
      "metadata": {
        "id": "di5SSF-Bt-SH"
      },
      "outputs": [],
      "source": [
        "#Adding Convolutional Layer\n",
        "model.add(Convolution2D(32,(3,3),input_shape=(64,64,3),activation='relu'))"
      ]
    },
    {
      "cell_type": "code",
      "execution_count": null,
      "metadata": {
        "id": "1PNs3ajquM_d"
      },
      "outputs": [],
      "source": [
        "#Adding Pooling Layer\n",
        "model.add(MaxPooling2D(pool_size=(2,2)))"
      ]
    },
    {
      "cell_type": "code",
      "execution_count": null,
      "metadata": {
        "id": "RU5MQfMiuRrT"
      },
      "outputs": [],
      "source": [
        "#Flatten Layer\n",
        "model.add(Flatten())"
      ]
    },
    {
      "cell_type": "code",
      "execution_count": null,
      "metadata": {
        "colab": {
          "base_uri": "https://localhost:8080/"
        },
        "id": "3BBSjioxuWKB",
        "outputId": "9a43ad94-f3ae-4b86-a883-34675bf3baec"
      },
      "outputs": [
        {
          "output_type": "stream",
          "name": "stdout",
          "text": [
            "Model: \"sequential\"\n",
            "_________________________________________________________________\n",
            " Layer (type)                Output Shape              Param #   \n",
            "=================================================================\n",
            " conv2d (Conv2D)             (None, 62, 62, 32)        896       \n",
            "                                                                 \n",
            " max_pooling2d (MaxPooling2D  (None, 31, 31, 32)       0         \n",
            " )                                                               \n",
            "                                                                 \n",
            " flatten (Flatten)           (None, 30752)             0         \n",
            "                                                                 \n",
            "=================================================================\n",
            "Total params: 896\n",
            "Trainable params: 896\n",
            "Non-trainable params: 0\n",
            "_________________________________________________________________\n"
          ]
        }
      ],
      "source": [
        "model.summary()"
      ]
    },
    {
      "cell_type": "code",
      "execution_count": null,
      "metadata": {
        "id": "21PNFbrFugSb"
      },
      "outputs": [],
      "source": [
        "#Hidden Layers\n",
        "model.add(Dense(300,activation='relu'))\n",
        "model.add(Dense(150,activation='relu'))"
      ]
    },
    {
      "cell_type": "code",
      "execution_count": null,
      "metadata": {
        "id": "6boz-H0iupel"
      },
      "outputs": [],
      "source": [
        "#Output Layer\n",
        "model.add(Dense(5,activation='softmax'))"
      ]
    },
    {
      "cell_type": "markdown",
      "metadata": {
        "id": "2Wuh81ocu-eE"
      },
      "source": [
        "##Compile the model"
      ]
    },
    {
      "cell_type": "code",
      "execution_count": null,
      "metadata": {
        "id": "LktE5dC5uuKt"
      },
      "outputs": [],
      "source": [
        "model.compile(loss='categorical_crossentropy',optimizer='adam',metrics=['accuracy'])"
      ]
    },
    {
      "cell_type": "code",
      "execution_count": null,
      "metadata": {
        "colab": {
          "base_uri": "https://localhost:8080/"
        },
        "id": "8MaONchquxC9",
        "outputId": "1e74ae55-c790-45a5-b191-a8d293ccf9dc"
      },
      "outputs": [
        {
          "output_type": "execute_result",
          "data": {
            "text/plain": [
              "144"
            ]
          },
          "metadata": {},
          "execution_count": 20
        }
      ],
      "source": [
        "len(x_train)"
      ]
    },
    {
      "cell_type": "markdown",
      "metadata": {
        "id": "YgOUZLyIvBC9"
      },
      "source": [
        "##6)Fit the Model"
      ]
    },
    {
      "cell_type": "code",
      "source": [
        "model.fit_generator(x_train,steps_per_epoch=len(x_train),validation_data=x_test,validation_steps=len(x_test),epochs=20)"
      ],
      "metadata": {
        "id": "_v_PV8Z-sDDA",
        "colab": {
          "base_uri": "https://localhost:8080/"
        },
        "outputId": "3b9323f5-377e-477a-ad99-34373275f5f9"
      },
      "execution_count": null,
      "outputs": [
        {
          "output_type": "stream",
          "name": "stderr",
          "text": [
            "/usr/local/lib/python3.7/dist-packages/ipykernel_launcher.py:1: UserWarning: `Model.fit_generator` is deprecated and will be removed in a future version. Please use `Model.fit`, which supports generators.\n",
            "  \"\"\"Entry point for launching an IPython kernel.\n"
          ]
        },
        {
          "output_type": "stream",
          "name": "stdout",
          "text": [
            "Epoch 1/20\n",
            "144/144 [==============================] - 747s 5s/step - loss: 0.9629 - accuracy: 0.6234 - val_loss: 1.0152 - val_accuracy: 0.6301\n",
            "Epoch 2/20\n",
            "144/144 [==============================] - 19s 129ms/step - loss: 0.8936 - accuracy: 0.6535 - val_loss: 1.0343 - val_accuracy: 0.6000\n",
            "Epoch 3/20\n",
            "144/144 [==============================] - 18s 128ms/step - loss: 0.8338 - accuracy: 0.6840 - val_loss: 1.1712 - val_accuracy: 0.5769\n",
            "Epoch 4/20\n",
            "144/144 [==============================] - 18s 126ms/step - loss: 0.7766 - accuracy: 0.7008 - val_loss: 0.9804 - val_accuracy: 0.6393\n",
            "Epoch 5/20\n",
            "144/144 [==============================] - 19s 129ms/step - loss: 0.7430 - accuracy: 0.7164 - val_loss: 0.9958 - val_accuracy: 0.6405\n",
            "Epoch 6/20\n",
            "144/144 [==============================] - 19s 130ms/step - loss: 0.7026 - accuracy: 0.7291 - val_loss: 1.0984 - val_accuracy: 0.6185\n",
            "Epoch 7/20\n",
            "144/144 [==============================] - 18s 127ms/step - loss: 0.6567 - accuracy: 0.7506 - val_loss: 1.0654 - val_accuracy: 0.6185\n",
            "Epoch 8/20\n",
            "144/144 [==============================] - 18s 126ms/step - loss: 0.6157 - accuracy: 0.7726 - val_loss: 1.0470 - val_accuracy: 0.6786\n",
            "Epoch 9/20\n",
            "144/144 [==============================] - 18s 126ms/step - loss: 0.5689 - accuracy: 0.7836 - val_loss: 1.0108 - val_accuracy: 0.6590\n",
            "Epoch 10/20\n",
            "144/144 [==============================] - 18s 126ms/step - loss: 0.5628 - accuracy: 0.7955 - val_loss: 1.1033 - val_accuracy: 0.6509\n",
            "Epoch 11/20\n",
            "144/144 [==============================] - 18s 126ms/step - loss: 0.5016 - accuracy: 0.8134 - val_loss: 1.0186 - val_accuracy: 0.6728\n",
            "Epoch 12/20\n",
            "144/144 [==============================] - 18s 127ms/step - loss: 0.4555 - accuracy: 0.8297 - val_loss: 1.1393 - val_accuracy: 0.6751\n",
            "Epoch 13/20\n",
            "144/144 [==============================] - 18s 127ms/step - loss: 0.4503 - accuracy: 0.8410 - val_loss: 1.0704 - val_accuracy: 0.6671\n",
            "Epoch 14/20\n",
            "144/144 [==============================] - 18s 127ms/step - loss: 0.4131 - accuracy: 0.8470 - val_loss: 1.1088 - val_accuracy: 0.6613\n",
            "Epoch 15/20\n",
            "144/144 [==============================] - 18s 127ms/step - loss: 0.3748 - accuracy: 0.8589 - val_loss: 1.1775 - val_accuracy: 0.6636\n",
            "Epoch 16/20\n",
            "144/144 [==============================] - 18s 126ms/step - loss: 0.3633 - accuracy: 0.8618 - val_loss: 1.2502 - val_accuracy: 0.6474\n",
            "Epoch 17/20\n",
            "144/144 [==============================] - 18s 125ms/step - loss: 0.3283 - accuracy: 0.8815 - val_loss: 1.2621 - val_accuracy: 0.6671\n",
            "Epoch 18/20\n",
            "144/144 [==============================] - 18s 125ms/step - loss: 0.3180 - accuracy: 0.8844 - val_loss: 1.4578 - val_accuracy: 0.6590\n",
            "Epoch 19/20\n",
            "144/144 [==============================] - 18s 125ms/step - loss: 0.3011 - accuracy: 0.8972 - val_loss: 1.3159 - val_accuracy: 0.6578\n",
            "Epoch 20/20\n",
            "144/144 [==============================] - 18s 124ms/step - loss: 0.2743 - accuracy: 0.9053 - val_loss: 1.3801 - val_accuracy: 0.6728\n"
          ]
        },
        {
          "output_type": "execute_result",
          "data": {
            "text/plain": [
              "<keras.callbacks.History at 0x7f603e71cc50>"
            ]
          },
          "metadata": {},
          "execution_count": 29
        }
      ]
    },
    {
      "cell_type": "markdown",
      "metadata": {
        "id": "nzcbloQAyN5N"
      },
      "source": [
        "##Test the model"
      ]
    },
    {
      "cell_type": "code",
      "execution_count": null,
      "metadata": {
        "id": "DKcgW9OgySy0"
      },
      "outputs": [],
      "source": [
        "import numpy as np\n",
        "from tensorflow.keras.models import load_model\n",
        "from tensorflow.keras.preprocessing import image"
      ]
    },
    {
      "cell_type": "code",
      "source": [
        "img=image.load_img(r\"/content/drive/MyDrive/flowersdataset/test/daisy/3706420943_66f3214862_n.jpg\",target_size=(64,64))\n",
        "x=image.img_to_array(img)\n",
        "x=np.expand_dims(x,axis=0)\n",
        "y=np.argmax(model.predict(x),axis=1)\n",
        "x_train.class_indices\n",
        "index=['daisy','dandellion','rose','sunflower','tulip']\n",
        "index[y[0]]"
      ],
      "metadata": {
        "colab": {
          "base_uri": "https://localhost:8080/",
          "height": 35
        },
        "id": "Ll4X40x9gq06",
        "outputId": "f8d8d1cc-672f-4a09-b04c-56c9416a59b7"
      },
      "execution_count": null,
      "outputs": [
        {
          "output_type": "execute_result",
          "data": {
            "text/plain": [
              "'daisy'"
            ],
            "application/vnd.google.colaboratory.intrinsic+json": {
              "type": "string"
            }
          },
          "metadata": {},
          "execution_count": 32
        }
      ]
    },
    {
      "cell_type": "code",
      "source": [
        "img=image.load_img(r\"/content/tulip.jfif\",target_size=(64,64))\n",
        "x=image.img_to_array(img)\n",
        "x=np.expand_dims(x,axis=0)\n",
        "y=np.argmax(model.predict(x),axis=1)\n",
        "x_train.class_indices\n",
        "index=['daisy','dandellion','rose','sunflower','tulip']\n",
        "index[y[0]]"
      ],
      "metadata": {
        "colab": {
          "base_uri": "https://localhost:8080/",
          "height": 35
        },
        "id": "CJQ1MrUNyxh2",
        "outputId": "68f79cda-0a01-4cb8-f066-44c4403e95ad"
      },
      "execution_count": null,
      "outputs": [
        {
          "output_type": "execute_result",
          "data": {
            "text/plain": [
              "'tulip'"
            ],
            "application/vnd.google.colaboratory.intrinsic+json": {
              "type": "string"
            }
          },
          "metadata": {},
          "execution_count": 33
        }
      ]
    }
  ],
  "metadata": {
    "colab": {
      "provenance": [],
      "collapsed_sections": []
    },
    "kernelspec": {
      "display_name": "Python 3",
      "name": "python3"
    },
    "language_info": {
      "name": "python"
    },
    "accelerator": "GPU"
  },
  "nbformat": 4,
  "nbformat_minor": 0
}